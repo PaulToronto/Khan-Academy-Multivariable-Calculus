{
  "nbformat": 4,
  "nbformat_minor": 0,
  "metadata": {
    "colab": {
      "provenance": [],
      "toc_visible": true,
      "authorship_tag": "ABX9TyNeJMeJxvaMMkGa3DOrE5f4",
      "include_colab_link": true
    },
    "kernelspec": {
      "name": "python3",
      "display_name": "Python 3"
    },
    "language_info": {
      "name": "python"
    }
  },
  "cells": [
    {
      "cell_type": "markdown",
      "metadata": {
        "id": "view-in-github",
        "colab_type": "text"
      },
      "source": [
        "<a href=\"https://colab.research.google.com/github/PaulToronto/Khan-Academy-Multivariable-Calculus/blob/main/1_2_Vectors_and_Matrices.ipynb\" target=\"_parent\"><img src=\"https://colab.research.google.com/assets/colab-badge.svg\" alt=\"Open In Colab\"/></a>"
      ]
    },
    {
      "cell_type": "markdown",
      "source": [
        "# 1.2 Vectors and Matrices"
      ],
      "metadata": {
        "id": "WZ1vdHLE2pwf"
      }
    },
    {
      "cell_type": "markdown",
      "source": [
        "## 1.2.1 Prerequisites overview"
      ],
      "metadata": {
        "id": "8zxtvgjL2tzU"
      }
    }
  ]
}