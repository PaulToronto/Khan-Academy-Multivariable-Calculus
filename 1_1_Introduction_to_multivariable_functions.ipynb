{
  "nbformat": 4,
  "nbformat_minor": 0,
  "metadata": {
    "colab": {
      "provenance": [],
      "toc_visible": true,
      "authorship_tag": "ABX9TyMib6K3gfHY/aPc72lNteQt",
      "include_colab_link": true
    },
    "kernelspec": {
      "name": "python3",
      "display_name": "Python 3"
    },
    "language_info": {
      "name": "python"
    }
  },
  "cells": [
    {
      "cell_type": "markdown",
      "metadata": {
        "id": "view-in-github",
        "colab_type": "text"
      },
      "source": [
        "<a href=\"https://colab.research.google.com/github/PaulToronto/Khan-Academy-Multivariable-Calculus/blob/main/1_1_Introduction_to_multivariable_functions.ipynb\" target=\"_parent\"><img src=\"https://colab.research.google.com/assets/colab-badge.svg\" alt=\"Open In Colab\"/></a>"
      ]
    },
    {
      "cell_type": "markdown",
      "source": [
        "# 1.1 Introduction to multivariable functions"
      ],
      "metadata": {
        "id": "JytWPzJx1Cz1"
      }
    },
    {
      "cell_type": "markdown",
      "source": [
        "## 1.1.1 Multivariable functions"
      ],
      "metadata": {
        "id": "siWsBPse2N0s"
      }
    }
  ]
}